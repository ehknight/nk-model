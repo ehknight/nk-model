{
 "cells": [
  {
   "cell_type": "code",
   "execution_count": 207,
   "metadata": {},
   "outputs": [],
   "source": [
    "import copy\n",
    "import time\n",
    "import random\n",
    "import itertools\n",
    "import numpy as np\n",
    "import networkx as nx"
   ]
  },
  {
   "cell_type": "code",
   "execution_count": 194,
   "metadata": {},
   "outputs": [],
   "source": [
    "random_fitness = lambda: random.uniform(-10, 10)\n",
    "\n",
    "class Node(object):\n",
    "    def __init__(self, name, value=None):\n",
    "        self.value = value\n",
    "        self.name = name\n",
    "    \n",
    "    def __str__(self):\n",
    "        return str(self.name)"
   ]
  },
  {
   "cell_type": "code",
   "execution_count": 227,
   "metadata": {},
   "outputs": [],
   "source": [
    "values = [0, 1] # binary strings\n",
    "colors = {0: 'b', 1: 'r'}\n",
    "\n",
    "class Model(object):\n",
    "    def __init__(self, n, k, graph=None, fitness_table=None):\n",
    "        self.n, self.k = n, k\n",
    "        self.graph = graph or self.generate_graph()\n",
    "        self.fitness_table = fitness_table or self.random_fitness()\n",
    "        self.nodes = list(self.graph.nodes)\n",
    "    \n",
    "    def generate_graph(self):\n",
    "        nodes = [Node(i, random.choice(values))\n",
    "                 for i in range(self.n)]\n",
    "        g = nx.Graph()\n",
    "        for i in range(self.n):\n",
    "            for j in range(1, self.k+1):\n",
    "                g.add_edge(nodes[i], nodes[(i+j) % self.n])\n",
    "        return g\n",
    "\n",
    "    def random_fitness(self):\n",
    "        xs = itertools.product(*([values] * (self.k+1)))\n",
    "        return {x: random_fitness() for x in xs}\n",
    "    \n",
    "    def fitness(self):\n",
    "        total_fitness = 0\n",
    "        node_vals = [n.value for n in self.nodes]\n",
    "        for i in range(self.n):\n",
    "            j = (i + self.k)\n",
    "            lookup = np.take(node_vals, range(i, j+1), mode='wrap')\n",
    "            total_fitness +=  self.fitness_table[tuple(lookup)]\n",
    "        return total_fitness\n",
    "    \n",
    "    def flip_random_bit(self):\n",
    "        node = random.choice(self.nodes)\n",
    "        node.value = random.choice(values)\n",
    "    \n",
    "    def draw(self, ax):\n",
    "        cs = [colors[n.value] for n in self.nodes]\n",
    "        nx.draw_shell(model.graph, node_color=cs, with_labels=True)"
   ]
  },
  {
   "cell_type": "code",
   "execution_count": 228,
   "metadata": {},
   "outputs": [],
   "source": [
    "def optimize(model, niters=100):\n",
    "    for i in range(niters):\n",
    "        prev_model = copy.deepcopy(model)\n",
    "        prev_fit = prev_model.fitness()\n",
    "        model.flip_random_bit()\n",
    "        new_fit = model.fitness()\n",
    "        yield model\n",
    "        \n",
    "        if new_fit < prev_fit:\n",
    "            model = prev_model"
   ]
  },
  {
   "cell_type": "code",
   "execution_count": 229,
   "metadata": {},
   "outputs": [
    {
     "name": "stdout",
     "output_type": "stream",
     "text": [
      "dict_keys([(0, 0), (0, 1), (1, 0), (1, 1)])\n",
      "[1, 0, 1, 1, 1]\n"
     ]
    },
    {
     "data": {
      "text/plain": [
       "5.810623048405285"
      ]
     },
     "execution_count": 229,
     "metadata": {},
     "output_type": "execute_result"
    }
   ],
   "source": [
    "model = Model(5, 1)\n",
    "print(model.fitness_table.keys())\n",
    "print([n.value for n in model.nodes])\n",
    "model.fitness()"
   ]
  },
  {
   "cell_type": "code",
   "execution_count": 240,
   "metadata": {},
   "outputs": [],
   "source": [
    "%matplotlib inline\n",
    "from IPython import display\n",
    "from IPython.html import widgets\n",
    "from IPython.display import display, clear_output\n",
    "\n",
    "from matplotlib import pyplot as plt"
   ]
  },
  {
   "cell_type": "code",
   "execution_count": null,
   "metadata": {},
   "outputs": [],
   "source": [
    "f = plt.gcf()\n",
    "ax = plt.gca()\n",
    "out = widgets.Output()\n",
    "\n",
    "for model in optimize(model):\n",
    "    with out:\n",
    "        model.draw(ax)\n",
    "        clear_output(wait=True)\n",
    "        display(f)\n",
    "    time.sleep(0.2)"
   ]
  },
  {
   "cell_type": "code",
   "execution_count": null,
   "metadata": {},
   "outputs": [],
   "source": []
  },
  {
   "cell_type": "code",
   "execution_count": null,
   "metadata": {},
   "outputs": [],
   "source": []
  }
 ],
 "metadata": {
  "kernelspec": {
   "display_name": "Python 3",
   "language": "python",
   "name": "python3"
  },
  "language_info": {
   "codemirror_mode": {
    "name": "ipython",
    "version": 3
   },
   "file_extension": ".py",
   "mimetype": "text/x-python",
   "name": "python",
   "nbconvert_exporter": "python",
   "pygments_lexer": "ipython3",
   "version": "3.6.1"
  }
 },
 "nbformat": 4,
 "nbformat_minor": 2
}
